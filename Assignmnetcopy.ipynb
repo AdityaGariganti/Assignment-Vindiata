{
 "cells": [
  {
   "cell_type": "code",
   "execution_count": 154,
   "id": "955a3668-5008-4b71-bdde-b2a833742a27",
   "metadata": {},
   "outputs": [],
   "source": [
    "import pandas as pd\n",
    "import numpy as np\n"
   ]
  },
  {
   "cell_type": "code",
   "execution_count": 155,
   "id": "8d433429-b437-4910-a901-d61a750443b9",
   "metadata": {},
   "outputs": [],
   "source": [
    "gameplay_df = pd.read_csv('User Gameplay data.csv',skiprows=3, low_memory=False)\n",
    "deposit_df = pd.read_csv('Deposit Data.csv',skiprows=3, low_memory=False)\n",
    "withdrawal_df = pd.read_csv('Withdrawal Data.csv',skiprows=3, low_memory=False)\n"
   ]
  },
  {
   "cell_type": "code",
   "execution_count": 156,
   "id": "36c4ba87-b84c-4d72-be51-c9dbbdb3648e",
   "metadata": {},
   "outputs": [
    {
     "name": "stdout",
     "output_type": "stream",
     "text": [
      "    User ID  Games Played         Datetime\n",
      "0       851             1  01-10-2022 0:00\n",
      "1       717             1  01-10-2022 0:00\n",
      "2       456             1  01-10-2022 0:00\n",
      "3       424             1  01-10-2022 0:00\n",
      "4       845             1  01-10-2022 0:00\n",
      "5        15             1  01-10-2022 0:00\n",
      "6       738             1  01-10-2022 0:00\n",
      "7       748             1  01-10-2022 0:01\n",
      "8       582             1  01-10-2022 0:01\n",
      "9        39             1  01-10-2022 0:01\n",
      "10      564             1  01-10-2022 0:01\n",
      "11      996             1  01-10-2022 0:01\n",
      "12      146             1  01-10-2022 0:02\n",
      "13      458             1  01-10-2022 0:02\n",
      "14       39             1  01-10-2022 0:02\n",
      "15      247             1  01-10-2022 0:02\n",
      "16      137             1  01-10-2022 0:02\n",
      "17      618             1  01-10-2022 0:02\n",
      "18      754             1  01-10-2022 0:02\n",
      "19      365             1  01-10-2022 0:02\n",
      "20      377             1  01-10-2022 0:02\n",
      "21      456             1  01-10-2022 0:03\n",
      "22      922             1  01-10-2022 0:03\n",
      "23      836             1  01-10-2022 0:03\n",
      "24      869             1  01-10-2022 0:03\n",
      "25        9             1  01-10-2022 0:03\n",
      "26      585             1  01-10-2022 0:03\n",
      "27      889             1  01-10-2022 0:03\n",
      "28      139             1  01-10-2022 0:04\n",
      "29      452             1  01-10-2022 0:04\n",
      "    User Id         Datetime  Amount\n",
      "0       357  01-10-2022 0:03    2000\n",
      "1       776  01-10-2022 0:03    2500\n",
      "2       492  01-10-2022 0:06    5000\n",
      "3       803  01-10-2022 0:07    5000\n",
      "4       875  01-10-2022 0:09    1500\n",
      "5        39  01-10-2022 0:11    4000\n",
      "6       539  01-10-2022 0:13     500\n",
      "7       560  01-10-2022 0:15    2500\n",
      "8        30  01-10-2022 0:16   25000\n",
      "9       367  01-10-2022 0:18    1000\n",
      "10      831  01-10-2022 0:21     955\n",
      "11      618  01-10-2022 0:24    2000\n",
      "12      837  01-10-2022 0:25     516\n",
      "13      625  01-10-2022 0:28   39000\n",
      "14      614  01-10-2022 0:29    1300\n",
      "15      539  01-10-2022 0:32     550\n",
      "16      557  01-10-2022 0:37    5000\n",
      "17       28  01-10-2022 0:40   50000\n",
      "18      674  01-10-2022 0:42    5000\n",
      "19      526  01-10-2022 0:43    5000\n",
      "20      749  01-10-2022 0:43    1500\n",
      "21      202  01-10-2022 0:45    4500\n",
      "22      235  01-10-2022 0:49    1500\n",
      "23      423  01-10-2022 0:49     500\n",
      "24      984  01-10-2022 0:50    5000\n",
      "25      796  01-10-2022 0:57    1100\n",
      "26      395  01-10-2022 0:57    5000\n",
      "27      137  01-10-2022 0:58   10000\n",
      "28      837  01-10-2022 1:01     500\n",
      "29      618  01-10-2022 1:01    2000\n",
      "    User Id         Datetime  Amount\n",
      "0       190  01-10-2022 0:03    5872\n",
      "1       159  01-10-2022 0:16    9540\n",
      "2       164  01-10-2022 0:24     815\n",
      "3       946  01-10-2022 0:29   23000\n",
      "4       763  01-10-2022 0:40    9473\n",
      "5        47  01-10-2022 1:01    3637\n",
      "6       302  01-10-2022 1:11    2000\n",
      "7       461  01-10-2022 1:17    9800\n",
      "8        12  01-10-2022 1:27    1800\n",
      "9       530  01-10-2022 1:32   16000\n",
      "10      471  01-10-2022 2:00   25000\n",
      "11      968  01-10-2022 2:03    2000\n",
      "12      157  01-10-2022 2:45   27777\n",
      "13       47  01-10-2022 2:52    1873\n",
      "14      313  01-10-2022 3:27    6000\n",
      "15      852  01-10-2022 3:29   10850\n",
      "16      804  01-10-2022 3:32    1719\n",
      "17      417  01-10-2022 3:33    2750\n",
      "18      480  01-10-2022 3:45    3887\n",
      "19      164  01-10-2022 3:50    5200\n",
      "20      946  01-10-2022 3:57   35000\n",
      "21      633  01-10-2022 4:05   10000\n",
      "22      689  01-10-2022 4:05     200\n",
      "23      234  01-10-2022 4:25    3802\n",
      "24      941  01-10-2022 4:36   60000\n",
      "25      390  01-10-2022 4:38    5000\n",
      "26      637  01-10-2022 5:25    1000\n",
      "27      506  01-10-2022 5:48    6000\n",
      "28      667  01-10-2022 5:51    5289\n",
      "29      422  01-10-2022 6:05   22000\n"
     ]
    }
   ],
   "source": [
    "print(gameplay_df.head(30))\n",
    "print(deposit_df.head(30))\n",
    "print(withdrawal_df.head(30))\n"
   ]
  },
  {
   "cell_type": "code",
   "execution_count": 157,
   "id": "835f0dae-2c5b-4b79-87fc-1c0ea9002670",
   "metadata": {},
   "outputs": [
    {
     "name": "stdout",
     "output_type": "stream",
     "text": [
      "<class 'pandas.core.frame.DataFrame'>\n",
      "RangeIndex: 355266 entries, 0 to 355265\n",
      "Data columns (total 3 columns):\n",
      " #   Column        Non-Null Count   Dtype \n",
      "---  ------        --------------   ----- \n",
      " 0   User ID       355266 non-null  int64 \n",
      " 1   Games Played  355266 non-null  int64 \n",
      " 2   Datetime      355266 non-null  object\n",
      "dtypes: int64(2), object(1)\n",
      "memory usage: 8.1+ MB\n",
      "<class 'pandas.core.frame.DataFrame'>\n",
      "RangeIndex: 17438 entries, 0 to 17437\n",
      "Data columns (total 3 columns):\n",
      " #   Column    Non-Null Count  Dtype \n",
      "---  ------    --------------  ----- \n",
      " 0   User Id   17438 non-null  int64 \n",
      " 1   Datetime  17438 non-null  object\n",
      " 2   Amount    17438 non-null  int64 \n",
      "dtypes: int64(2), object(1)\n",
      "memory usage: 408.8+ KB\n",
      "<class 'pandas.core.frame.DataFrame'>\n",
      "RangeIndex: 3566 entries, 0 to 3565\n",
      "Data columns (total 3 columns):\n",
      " #   Column    Non-Null Count  Dtype \n",
      "---  ------    --------------  ----- \n",
      " 0   User Id   3566 non-null   int64 \n",
      " 1   Datetime  3566 non-null   object\n",
      " 2   Amount    3566 non-null   int64 \n",
      "dtypes: int64(2), object(1)\n",
      "memory usage: 83.7+ KB\n"
     ]
    }
   ],
   "source": [
    "gameplay_df.info()\n",
    "deposit_df.info()\n",
    "withdrawal_df.info()"
   ]
  },
  {
   "cell_type": "code",
   "execution_count": 158,
   "id": "924a741d-1d3a-467e-8208-68be1065f2c6",
   "metadata": {},
   "outputs": [],
   "source": [
    "gameplay_df[['Date', 'Time']] = gameplay_df['Datetime'].str.split(' ', expand=True)\n",
    "deposit_df[['Date', 'Time']] = deposit_df['Datetime'].str.split(' ', expand=True)\n",
    "withdrawal_df[['Date', 'Time']] = withdrawal_df['Datetime'].str.split(' ', expand=True)"
   ]
  },
  {
   "cell_type": "code",
   "execution_count": 159,
   "id": "d75402fc-abfc-4423-90a4-33f7c43257f9",
   "metadata": {},
   "outputs": [],
   "source": [
    "gameplay_df['Hour'] = gameplay_df['Time'].str.split(':').str[0].astype(int)\n",
    "deposit_df['Hour'] = deposit_df['Time'].str.split(':').str[0].astype(int)\n",
    "withdrawal_df['Hour'] = withdrawal_df['Time'].str.split(':').str[0].astype(int)"
   ]
  },
  {
   "cell_type": "code",
   "execution_count": 160,
   "id": "a0aa7b8e-527e-4b7a-a4de-3773a2e90786",
   "metadata": {},
   "outputs": [],
   "source": [
    "gameplay_df['Slot'] = gameplay_df['Hour'].apply(lambda x: 'S1' if x < 12 else 'S2')\n",
    "deposit_df['Slot'] = deposit_df['Hour'].apply(lambda x: 'S1' if x < 12 else 'S2')\n",
    "withdrawal_df['Slot'] = withdrawal_df['Hour'].apply(lambda x: 'S1' if x < 12 else 'S2')"
   ]
  },
  {
   "cell_type": "code",
   "execution_count": 161,
   "id": "4a1a1af3-c956-4ba2-89df-8bd2e077e6e3",
   "metadata": {},
   "outputs": [
    {
     "name": "stdout",
     "output_type": "stream",
     "text": [
      "   User ID  Games Played         Datetime        Date  Time  Hour Slot\n",
      "0      851             1  01-10-2022 0:00  01-10-2022  0:00     0   S1\n",
      "1      717             1  01-10-2022 0:00  01-10-2022  0:00     0   S1\n",
      "2      456             1  01-10-2022 0:00  01-10-2022  0:00     0   S1\n",
      "3      424             1  01-10-2022 0:00  01-10-2022  0:00     0   S1\n",
      "4      845             1  01-10-2022 0:00  01-10-2022  0:00     0   S1\n",
      "   User Id         Datetime  Amount        Date  Time  Hour Slot\n",
      "0      357  01-10-2022 0:03    2000  01-10-2022  0:03     0   S1\n",
      "1      776  01-10-2022 0:03    2500  01-10-2022  0:03     0   S1\n",
      "2      492  01-10-2022 0:06    5000  01-10-2022  0:06     0   S1\n",
      "3      803  01-10-2022 0:07    5000  01-10-2022  0:07     0   S1\n",
      "4      875  01-10-2022 0:09    1500  01-10-2022  0:09     0   S1\n",
      "   User Id         Datetime  Amount        Date  Time  Hour Slot\n",
      "0      190  01-10-2022 0:03    5872  01-10-2022  0:03     0   S1\n",
      "1      159  01-10-2022 0:16    9540  01-10-2022  0:16     0   S1\n",
      "2      164  01-10-2022 0:24     815  01-10-2022  0:24     0   S1\n",
      "3      946  01-10-2022 0:29   23000  01-10-2022  0:29     0   S1\n",
      "4      763  01-10-2022 0:40    9473  01-10-2022  0:40     0   S1\n"
     ]
    }
   ],
   "source": [
    "print(gameplay_df.head())\n",
    "print(deposit_df.head())\n",
    "print(withdrawal_df.head())\n"
   ]
  },
  {
   "cell_type": "code",
   "execution_count": 162,
   "id": "dcecda20-22c1-4481-80e4-732c90c71ad2",
   "metadata": {},
   "outputs": [
    {
     "name": "stdout",
     "output_type": "stream",
     "text": [
      "        User ID  Games Played          Datetime        Date   Time  Hour Slot\n",
      "355261      658             1  31-10-2022 23:59  31-10-2022  23:59    23   S2\n",
      "355262      582             1  31-10-2022 23:59  31-10-2022  23:59    23   S2\n",
      "355263      272             1  31-10-2022 23:59  31-10-2022  23:59    23   S2\n",
      "355264      563             1  31-10-2022 23:59  31-10-2022  23:59    23   S2\n",
      "355265      289             1  31-10-2022 23:59  31-10-2022  23:59    23   S2\n",
      "       User Id          Datetime  Amount        Date   Time  Hour Slot\n",
      "17433      654  31-10-2022 23:57    1200  31-10-2022  23:57    23   S2\n",
      "17434      980  31-10-2022 23:58     200  31-10-2022  23:58    23   S2\n",
      "17435        2  31-10-2022 23:58   40000  31-10-2022  23:58    23   S2\n",
      "17436      612  31-10-2022 23:58    2800  31-10-2022  23:58    23   S2\n",
      "17437      786  31-10-2022 23:59   20000  31-10-2022  23:59    23   S2\n",
      "      User Id          Datetime  Amount        Date   Time  Hour Slot\n",
      "3561      559  31-10-2022 23:27    5000  31-10-2022  23:27    23   S2\n",
      "3562      407  31-10-2022 23:51    3000  31-10-2022  23:51    23   S2\n",
      "3563      389  31-10-2022 23:56   14481  31-10-2022  23:56    23   S2\n",
      "3564       11  31-10-2022 23:57    4000  31-10-2022  23:57    23   S2\n",
      "3565      112  31-10-2022 23:58    1604  31-10-2022  23:58    23   S2\n"
     ]
    }
   ],
   "source": [
    "print(gameplay_df.tail())\n",
    "print(deposit_df.tail())\n",
    "print(withdrawal_df.tail())\n"
   ]
  },
  {
   "cell_type": "code",
   "execution_count": 163,
   "id": "00ddaae1-07df-4480-a72d-85cb64f80d5c",
   "metadata": {},
   "outputs": [],
   "source": [
    "gameplay_df = gameplay_df.drop(columns=['Hour'])\n",
    "deposit_df = deposit_df.drop(columns=['Hour'])\n",
    "withdrawal_df = withdrawal_df.drop(columns=['Hour'])\n"
   ]
  },
  {
   "cell_type": "code",
   "execution_count": 164,
   "id": "24129fef-ee53-447b-8574-f0644265bcb6",
   "metadata": {},
   "outputs": [],
   "source": [
    "gameplay_df['Date'] = pd.to_datetime(gameplay_df['Date'], format='%d-%m-%Y', dayfirst=True)\n",
    "gameplay_df['Time'] = pd.to_timedelta(gameplay_df['Time'] + ':00')\n",
    "deposit_df['Date'] = pd.to_datetime(deposit_df['Date'], format='%d-%m-%Y', dayfirst=True)\n",
    "deposit_df['Time'] = pd.to_timedelta(deposit_df['Time'] + ':00')\n",
    "withdrawal_df['Date'] = pd.to_datetime(withdrawal_df['Date'], format='%d-%m-%Y', dayfirst=True)\n",
    "withdrawal_df['Time'] = pd.to_timedelta(withdrawal_df['Time'] + ':00')"
   ]
  },
  {
   "cell_type": "code",
   "execution_count": 165,
   "id": "1eb451c1-ef6c-4ca4-a215-16f9b0ad0955",
   "metadata": {},
   "outputs": [
    {
     "name": "stdout",
     "output_type": "stream",
     "text": [
      "<class 'pandas.core.frame.DataFrame'>\n",
      "RangeIndex: 355266 entries, 0 to 355265\n",
      "Data columns (total 6 columns):\n",
      " #   Column        Non-Null Count   Dtype          \n",
      "---  ------        --------------   -----          \n",
      " 0   User ID       355266 non-null  int64          \n",
      " 1   Games Played  355266 non-null  int64          \n",
      " 2   Datetime      355266 non-null  object         \n",
      " 3   Date          355266 non-null  datetime64[ns] \n",
      " 4   Time          355266 non-null  timedelta64[ns]\n",
      " 5   Slot          355266 non-null  object         \n",
      "dtypes: datetime64[ns](1), int64(2), object(2), timedelta64[ns](1)\n",
      "memory usage: 16.3+ MB\n",
      "<class 'pandas.core.frame.DataFrame'>\n",
      "RangeIndex: 17438 entries, 0 to 17437\n",
      "Data columns (total 6 columns):\n",
      " #   Column    Non-Null Count  Dtype          \n",
      "---  ------    --------------  -----          \n",
      " 0   User Id   17438 non-null  int64          \n",
      " 1   Datetime  17438 non-null  object         \n",
      " 2   Amount    17438 non-null  int64          \n",
      " 3   Date      17438 non-null  datetime64[ns] \n",
      " 4   Time      17438 non-null  timedelta64[ns]\n",
      " 5   Slot      17438 non-null  object         \n",
      "dtypes: datetime64[ns](1), int64(2), object(2), timedelta64[ns](1)\n",
      "memory usage: 817.5+ KB\n",
      "<class 'pandas.core.frame.DataFrame'>\n",
      "RangeIndex: 3566 entries, 0 to 3565\n",
      "Data columns (total 6 columns):\n",
      " #   Column    Non-Null Count  Dtype          \n",
      "---  ------    --------------  -----          \n",
      " 0   User Id   3566 non-null   int64          \n",
      " 1   Datetime  3566 non-null   object         \n",
      " 2   Amount    3566 non-null   int64          \n",
      " 3   Date      3566 non-null   datetime64[ns] \n",
      " 4   Time      3566 non-null   timedelta64[ns]\n",
      " 5   Slot      3566 non-null   object         \n",
      "dtypes: datetime64[ns](1), int64(2), object(2), timedelta64[ns](1)\n",
      "memory usage: 167.3+ KB\n"
     ]
    }
   ],
   "source": [
    "gameplay_df.info()\n",
    "deposit_df.info()\n",
    "withdrawal_df.info()"
   ]
  },
  {
   "cell_type": "code",
   "execution_count": 166,
   "id": "dfea3c20-c20e-4230-b570-3aaf5f57552a",
   "metadata": {},
   "outputs": [],
   "source": [
    "deposit_df.rename(columns={'Amount': 'deposit_amount'},inplace=\"True\")\n",
    "\n",
    "withdrawal_df.rename(columns={'Amount': 'withdrawal_amount'},inplace=\"True\")\n",
    "gameplay_df.rename(columns={'User ID': 'User_Id'},inplace=\"True\")\n",
    "deposit_df.rename(columns={'User Id': 'User_Id'},inplace=\"True\")\n",
    "withdrawal_df.rename(columns={'User Id': 'User_Id'},inplace=\"True\")\n",
    "gameplay_df.rename(columns={'Games Played': 'games_played'},inplace=\"True\")"
   ]
  },
  {
   "cell_type": "code",
   "execution_count": 167,
   "id": "13cdc4fd-8d4b-4cd4-8fc0-8f0d952eac9a",
   "metadata": {},
   "outputs": [
    {
     "name": "stdout",
     "output_type": "stream",
     "text": [
      "<class 'pandas.core.frame.DataFrame'>\n",
      "RangeIndex: 355266 entries, 0 to 355265\n",
      "Data columns (total 6 columns):\n",
      " #   Column        Non-Null Count   Dtype          \n",
      "---  ------        --------------   -----          \n",
      " 0   User_Id       355266 non-null  int64          \n",
      " 1   games_played  355266 non-null  int64          \n",
      " 2   Datetime      355266 non-null  object         \n",
      " 3   Date          355266 non-null  datetime64[ns] \n",
      " 4   Time          355266 non-null  timedelta64[ns]\n",
      " 5   Slot          355266 non-null  object         \n",
      "dtypes: datetime64[ns](1), int64(2), object(2), timedelta64[ns](1)\n",
      "memory usage: 16.3+ MB\n",
      "<class 'pandas.core.frame.DataFrame'>\n",
      "RangeIndex: 17438 entries, 0 to 17437\n",
      "Data columns (total 6 columns):\n",
      " #   Column          Non-Null Count  Dtype          \n",
      "---  ------          --------------  -----          \n",
      " 0   User_Id         17438 non-null  int64          \n",
      " 1   Datetime        17438 non-null  object         \n",
      " 2   deposit_amount  17438 non-null  int64          \n",
      " 3   Date            17438 non-null  datetime64[ns] \n",
      " 4   Time            17438 non-null  timedelta64[ns]\n",
      " 5   Slot            17438 non-null  object         \n",
      "dtypes: datetime64[ns](1), int64(2), object(2), timedelta64[ns](1)\n",
      "memory usage: 817.5+ KB\n",
      "<class 'pandas.core.frame.DataFrame'>\n",
      "RangeIndex: 3566 entries, 0 to 3565\n",
      "Data columns (total 6 columns):\n",
      " #   Column             Non-Null Count  Dtype          \n",
      "---  ------             --------------  -----          \n",
      " 0   User_Id            3566 non-null   int64          \n",
      " 1   Datetime           3566 non-null   object         \n",
      " 2   withdrawal_amount  3566 non-null   int64          \n",
      " 3   Date               3566 non-null   datetime64[ns] \n",
      " 4   Time               3566 non-null   timedelta64[ns]\n",
      " 5   Slot               3566 non-null   object         \n",
      "dtypes: datetime64[ns](1), int64(2), object(2), timedelta64[ns](1)\n",
      "memory usage: 167.3+ KB\n"
     ]
    }
   ],
   "source": [
    "gameplay_df.info()\n",
    "deposit_df.info()\n",
    "\n",
    "withdrawal_df.info()"
   ]
  },
  {
   "cell_type": "code",
   "execution_count": 168,
   "id": "e5e0cffe-204e-4c28-926d-3685ee60eb62",
   "metadata": {},
   "outputs": [],
   "source": [
    "def calculate_deposit_points(deposit_amount):\n",
    "    return 0.01 * deposit_amount\n",
    "\n",
    "def calculate_withdrawal_points(withdrawal_amount):\n",
    "    return 0.005 * withdrawal_amount\n",
    "\n",
    "def calculate_deposit_vs_withdrawal(deposits, withdrawals):\n",
    "    return 0.001 * max(deposits - withdrawals, 0)\n",
    "\n",
    "def calculate_game_points(games_played):\n",
    "    return 0.2 * games_played\n"
   ]
  },
  {
   "cell_type": "code",
   "execution_count": 169,
   "id": "48b8440b-cf85-4d3c-a283-d5775c521b5c",
   "metadata": {},
   "outputs": [],
   "source": [
    "def calculate_loyalty_points(deposit_amount, withdrawal_amount, deposits, withdrawals, games_played):\n",
    "    return (calculate_deposit_points(deposit_amount) +\n",
    "            calculate_withdrawal_points(withdrawal_amount) +\n",
    "            calculate_deposit_vs_withdrawal(deposits, withdrawals) +\n",
    "            calculate_game_points(games_played))\n"
   ]
  },
  {
   "cell_type": "code",
   "execution_count": 170,
   "id": "e72dd389-f0fd-4819-8b33-7db81346d2dc",
   "metadata": {},
   "outputs": [],
   "source": [
    "\n",
    "dates_slots = [\n",
    "    ('02-10-2023', 'S1'),\n",
    "    ('16-10-2023', 'S2'),\n",
    "    ('18-10-2023', 'S1'),\n",
    "    ('26-10-2023', 'S2')\n",
    "]\n"
   ]
  },
  {
   "cell_type": "code",
   "execution_count": 171,
   "id": "15ca2100-5296-4d56-961d-a18d95e4dff3",
   "metadata": {},
   "outputs": [],
   "source": [
    "all_results = []\n",
    "\n",
    "\n",
    "for date, slot in dates_slots:\n",
    "    \n",
    "    gameplay_filtered = gameplay_df[(gameplay_df['Date'] == date) & (gameplay_df['Slot'] == slot)]\n",
    "    deposit_filtered = deposit_df[(deposit_df['Date'] == date) & (deposit_df['Slot'] == slot)]\n",
    "    withdrawal_filtered = withdrawal_df[(withdrawal_df['Date'] == date) & (withdrawal_df['Slot'] == slot)]"
   ]
  },
  {
   "cell_type": "code",
   "execution_count": 172,
   "id": "331ff557-2ee5-4427-ba73-81be9cd55516",
   "metadata": {},
   "outputs": [],
   "source": [
    "\n",
    "gameplay_filtered['Game Points'] = gameplay_filtered['games_played'].apply(calculate_game_points)\n",
    "\n",
    "    \n",
    "deposit_filtered['Deposit Points'] = deposit_filtered['deposit_amount'].apply(calculate_deposit_points)\n",
    "\n",
    "    \n",
    "withdrawal_filtered['Withdrawal Points'] = withdrawal_filtered['withdrawal_amount'].apply(calculate_withdrawal_points)\n",
    "\n",
    "    \n",
    "deposit_counts = deposit_filtered.groupby('User_Id').size().reset_index(name='deposits')\n",
    "withdrawal_counts = withdrawal_filtered.groupby('User_Id').size().reset_index(name='withdrawals')\n"
   ]
  },
  {
   "cell_type": "code",
   "execution_count": 173,
   "id": "8a04c2e3-e947-416d-a450-211d37daa12c",
   "metadata": {},
   "outputs": [],
   "source": [
    "merged_df = gameplay_filtered[['User_Id', 'Game Points']].merge(\n",
    "        deposit_filtered[['User_Id', 'Deposit Points']], on='User_Id', how='outer'\n",
    "    ).merge(\n",
    "        withdrawal_filtered[['User_Id', 'Withdrawal Points']], on='User_Id', how='outer'\n",
    "    ).merge(\n",
    "        deposit_counts, on='User_Id', how='outer'\n",
    "    ).merge(\n",
    "        withdrawal_counts, on='User_Id', how='outer'\n",
    "    ).fillna(0)"
   ]
  },
  {
   "cell_type": "code",
   "execution_count": 174,
   "id": "8b543d43-f186-478b-943e-ba96a45fc3ba",
   "metadata": {},
   "outputs": [],
   "source": [
    "merged_df['Loyalty Points'] = merged_df.apply(\n",
    "        lambda row: calculate_loyalty_points(\n",
    "            row['Deposit Points'], row['Withdrawal Points'],\n",
    "            row['deposits'], row['withdrawals'], row['Game Points']\n",
    "        ), axis=1\n",
    "    )\n",
    "\n",
    "    \n",
    "merged_df['Date'] = date\n",
    "merged_df['Slot'] = slot\n",
    "\n",
    "    \n",
    "all_results.append(merged_df[['User_Id', 'Loyalty Points', 'Date', 'Slot']])"
   ]
  },
  {
   "cell_type": "code",
   "execution_count": 175,
   "id": "2a0f637f-5696-4fe0-920c-9c56eb6e51c6",
   "metadata": {},
   "outputs": [
    {
     "data": {
      "text/html": [
       "<div>\n",
       "<style scoped>\n",
       "    .dataframe tbody tr th:only-of-type {\n",
       "        vertical-align: middle;\n",
       "    }\n",
       "\n",
       "    .dataframe tbody tr th {\n",
       "        vertical-align: top;\n",
       "    }\n",
       "\n",
       "    .dataframe thead th {\n",
       "        text-align: right;\n",
       "    }\n",
       "</style>\n",
       "<table border=\"1\" class=\"dataframe\">\n",
       "  <thead>\n",
       "    <tr style=\"text-align: right;\">\n",
       "      <th></th>\n",
       "      <th>User_Id</th>\n",
       "      <th>Loyalty Points</th>\n",
       "      <th>Date</th>\n",
       "      <th>Slot</th>\n",
       "    </tr>\n",
       "  </thead>\n",
       "  <tbody>\n",
       "  </tbody>\n",
       "</table>\n",
       "</div>"
      ],
      "text/plain": [
       "Empty DataFrame\n",
       "Columns: [User_Id, Loyalty Points, Date, Slot]\n",
       "Index: []"
      ]
     },
     "execution_count": 175,
     "metadata": {},
     "output_type": "execute_result"
    }
   ],
   "source": [
    "# Concatenate all results into one DataFrame\n",
    "final_results_df = pd.concat(all_results, ignore_index=True)\n",
    "\n",
    "# Display the final DataFrame with loyalty points for each specified date and slot\n",
    "final_results_df.head()\n"
   ]
  },
  {
   "cell_type": "code",
   "execution_count": 176,
   "id": "abba8e57-3dc4-4736-a3d2-219b17954e61",
   "metadata": {},
   "outputs": [
    {
     "name": "stdout",
     "output_type": "stream",
     "text": [
      "Loyalty Points for 02-10-2023 Slot S1\n",
      "Empty DataFrame\n",
      "Columns: [User_Id, Loyalty Points]\n",
      "Index: []\n",
      "\n",
      "\n",
      "Loyalty Points for 16-10-2023 Slot S2\n",
      "Empty DataFrame\n",
      "Columns: [User_Id, Loyalty Points]\n",
      "Index: []\n",
      "\n",
      "\n",
      "Loyalty Points for 18-10-2023 Slot S1\n",
      "Empty DataFrame\n",
      "Columns: [User_Id, Loyalty Points]\n",
      "Index: []\n",
      "\n",
      "\n",
      "Loyalty Points for 26-10-2023 Slot S2\n",
      "Empty DataFrame\n",
      "Columns: [User_Id, Loyalty Points]\n",
      "Index: []\n",
      "\n",
      "\n"
     ]
    }
   ],
   "source": [
    "# Loop to display loyalty points for each date and slot\n",
    "for date, slot in dates_slots:\n",
    "    print(f\"Loyalty Points for {date} Slot {slot}\")\n",
    "    print(final_results_df[(final_results_df['Date'] == date) & (final_results_df['Slot'] == slot)][['User_Id', 'Loyalty Points']])\n",
    "    print(\"\\n\")\n"
   ]
  },
  {
   "cell_type": "code",
   "execution_count": 177,
   "id": "0cdd23b9-49c7-4fc1-94a5-aa2b4c61172d",
   "metadata": {},
   "outputs": [
    {
     "name": "stdout",
     "output_type": "stream",
     "text": [
      "Top 50 Players:\n",
      "Empty DataFrame\n",
      "Columns: [User_Id, Loyalty Points]\n",
      "Index: []\n"
     ]
    }
   ],
   "source": [
    "# Calculate total loyalty points for each player\n",
    "total_loyalty_points = final_results_df.groupby('User_Id')['Loyalty Points'].sum().reset_index()\n",
    "\n",
    "# Sort players based on loyalty points in descending order\n",
    "total_loyalty_points = total_loyalty_points.sort_values(by='Loyalty Points', ascending=False)\n",
    "\n",
    "# Display the top 50 players\n",
    "top_50_players = total_loyalty_points.head(50)\n",
    "print(\"Top 50 Players:\")\n",
    "print(top_50_players)\n"
   ]
  },
  {
   "cell_type": "code",
   "execution_count": 178,
   "id": "de54b3df-6978-4ff7-8af1-56186caee71c",
   "metadata": {},
   "outputs": [
    {
     "name": "stdout",
     "output_type": "stream",
     "text": [
      "Total Loyalty Points of Top 50 Players: 0.0\n"
     ]
    }
   ],
   "source": [
    "# Calculate the total loyalty points of the top 50 players\n",
    "total_points_top_50 = top_50_players['Loyalty Points'].sum()\n",
    "print(\"Total Loyalty Points of Top 50 Players:\", total_points_top_50)\n"
   ]
  },
  {
   "cell_type": "code",
   "execution_count": 179,
   "id": "1cf375e0-bacb-42c0-867a-335e918668d0",
   "metadata": {},
   "outputs": [
    {
     "name": "stdout",
     "output_type": "stream",
     "text": [
      "Bonus Allocation for Top 50 Players:\n",
      "Empty DataFrame\n",
      "Columns: [User_Id, Loyalty Points, Bonus]\n",
      "Index: []\n"
     ]
    }
   ],
   "source": [
    "# Allocate bonus based on loyalty points\n",
    "total_bonus_pool = 50000\n",
    "\n",
    "# Calculate individual bonuses\n",
    "top_50_players['Bonus'] = (top_50_players['Loyalty Points'] / total_points_top_50) * total_bonus_pool\n",
    "\n",
    "# Display the bonuses\n",
    "print(\"Bonus Allocation for Top 50 Players:\")\n",
    "print(top_50_players[['User_Id', 'Loyalty Points', 'Bonus']])\n"
   ]
  },
  {
   "cell_type": "code",
   "execution_count": 180,
   "id": "8a71ff90-5579-4bcc-9469-002ace8caadd",
   "metadata": {},
   "outputs": [],
   "source": [
    "# Save the results to a CSV file\n",
    "top_50_players.to_csv('top_50_players_bonus.csv', index=False)\n"
   ]
  },
  {
   "cell_type": "code",
   "execution_count": 181,
   "id": "7ff18434-ad36-4db8-b9f9-15dc8fcbc993",
   "metadata": {},
   "outputs": [
    {
     "name": "stdout",
     "output_type": "stream",
     "text": [
      "Bonus Allocation for Top 50 Players:\n",
      "Empty DataFrame\n",
      "Columns: [User_Id, Loyalty Points, Bonus]\n",
      "Index: []\n"
     ]
    }
   ],
   "source": [
    "print(\"Bonus Allocation for Top 50 Players:\")\n",
    "print(top_50_players[['User_Id', 'Loyalty Points', 'Bonus']])"
   ]
  },
  {
   "cell_type": "code",
   "execution_count": 182,
   "id": "26dcd038-4885-4acb-8b73-d3ea1bd9830a",
   "metadata": {},
   "outputs": [
    {
     "name": "stdout",
     "output_type": "stream",
     "text": [
      "Average Bonus: ₹nan\n",
      "Maximum Bonus: ₹nan\n",
      "Minimum Bonus: ₹nan\n",
      "Total Bonus Distributed: ₹0.00\n"
     ]
    }
   ],
   "source": [
    "# Summary statistics for bonuses\n",
    "average_bonus = top_50_players['Bonus'].mean()\n",
    "max_bonus = top_50_players['Bonus'].max()\n",
    "min_bonus = top_50_players['Bonus'].min()\n",
    "total_bonus_distributed = top_50_players['Bonus'].sum()\n",
    "\n",
    "# Print the summary statistics\n",
    "print(f\"Average Bonus: ₹{average_bonus:.2f}\")\n",
    "print(f\"Maximum Bonus: ₹{max_bonus:.2f}\")\n",
    "print(f\"Minimum Bonus: ₹{min_bonus:.2f}\")\n",
    "print(f\"Total Bonus Distributed: ₹{total_bonus_distributed:.2f}\")\n"
   ]
  },
  {
   "cell_type": "code",
   "execution_count": 183,
   "id": "5612ecdb-de7a-44cc-a5fe-a3fb79405114",
   "metadata": {},
   "outputs": [
    {
     "data": {
      "image/png": "[encoded data removed]",
      "text/plain": [
       "<Figure size 1000x600 with 1 Axes>"
      ]
     },
     "metadata": {},
     "output_type": "display_data"
    }
   ],
   "source": [
    "\n",
    "import matplotlib.pyplot as plt\n",
    "\n",
    "# Plotting the bonus distribution\n",
    "plt.figure(figsize=(10, 6))\n",
    "plt.bar(top_50_players['User_Id'], top_50_players['Bonus'], color='skyblue')\n",
    "plt.xticks(rotation=90)\n",
    "plt.title('Bonus Distribution Among Top 50 Players')\n",
    "plt.xlabel('User ID')\n",
    "plt.ylabel('Bonus Amount (₹)')\n",
    "plt.grid(axis='y')\n",
    "plt.tight_layout()\n",
    "plt.show()\n"
   ]
  },
  {
   "cell_type": "code",
   "execution_count": null,
   "id": "abd6a6db-f20f-451a-a160-15f6391ab9fc",
   "metadata": {},
   "outputs": [],
   "source": []
  }
 ],
 "metadata": {
  "kernelspec": {
   "display_name": "Python 3 (ipykernel)",
   "language": "python",
   "name": "python3"
  },
  "language_info": {
   "codemirror_mode": {
    "name": "ipython",
    "version": 3
   },
   "file_extension": ".py",
   "mimetype": "text/x-python",
   "name": "python",
   "nbconvert_exporter": "python",
   "pygments_lexer": "ipython3",
   "version": "3.12.4"
  }
 },
 "nbformat": 4,
 "nbformat_minor": 5
}
